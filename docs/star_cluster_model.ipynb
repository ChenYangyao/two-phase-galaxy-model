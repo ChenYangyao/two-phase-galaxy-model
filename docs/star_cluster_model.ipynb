{
 "cells": [
  {
   "cell_type": "code",
   "execution_count": 1,
   "metadata": {},
   "outputs": [],
   "source": [
    "%load_ext autoreload\n",
    "%aimport pyhipp\n",
    "%aimport pyhipp_sims\n",
    "%aimport two_phase_galaxy_model"
   ]
  },
  {
   "cell_type": "code",
   "execution_count": 40,
   "metadata": {},
   "outputs": [],
   "source": [
    "%autoreload"
   ]
  },
  {
   "cell_type": "markdown",
   "metadata": {},
   "source": [
    "## The model for star clusters"
   ]
  },
  {
   "cell_type": "code",
   "execution_count": 45,
   "metadata": {},
   "outputs": [],
   "source": [
    "import two_phase_galaxy_model as tpgm\n",
    "import numpy as np\n",
    "from pyhipp import plot"
   ]
  },
  {
   "cell_type": "markdown",
   "metadata": {},
   "source": [
    "Here we define a subhalo merger tree. It should be defined as a `dict`, with \n",
    "each value being an array of a given property of all subhalos, satisfying:\n",
    "- DFS ordered (i.e. output of SubLink, as used in TNG);\n",
    "- containing the required fields (see the doc string of `make_group_tree_from_dict`).\n",
    "\n",
    "The `dict` is parsed by the shortcut function `make_group_tree_from_dict` that \n",
    "transforms the data types and evaluates other required properties. A data \n",
    "container is returned, which can be used as the input of the model.\n",
    "\n",
    "Note that the processing unit of the model is a subhalo merger tree.\n",
    "For multiple trees, transform them one-by-one and store them in a list."
   ]
  },
  {
   "cell_type": "code",
   "execution_count": 118,
   "metadata": {},
   "outputs": [],
   "source": [
    "merger_tree = {\n",
    "    'id': [10, 11, 12, 13, 14, \n",
    "               15, 16, 17, 18,\n",
    "                       19, 20],\n",
    "    'leaf_id': [14, 14, 14, 14, 14,\n",
    "                    18, 18, 18, 18,\n",
    "                            20, 20],\n",
    "    'last_pro_id': [20, 14, 14, 14, 14,\n",
    "                        20, 20, 18, 18,\n",
    "                                20, 20],\n",
    "    'snap': [99, 97, 80, 70, 55,\n",
    "                 97, 80, 70, 55,\n",
    "                         70, 55],\n",
    "    'z': [0.0, 1.0, 2.0, 3.0, 4.0,\n",
    "               1.0, 2.0, 3.0, 4.0,\n",
    "                         3.0, 4.0],\n",
    "    'is_cent': [True, True,  True, False, True,\n",
    "                      False, True, True,  True,\n",
    "                                   True,  True],\n",
    "    'm_h': [10**2.5, 10**2.0, 10**1.5, 0.0,     10**0.5,\n",
    "                     0.0,     10**1.0, 10**1.0, 10**0.5,\n",
    "                                       10**0.5, 10**-0.5],\n",
    "    'v_max': [10**2.8, 10**2.2, 10**1.7, 10**1.6, 10**1.5,\n",
    "                       10**1.9, 10**1.7, 10**1.6, 10**1.5,\n",
    "                                         10**1.5, 10**1.0],\n",
    "}\n",
    "data_in = tpgm.samples.make_group_tree_from_dict(merger_tree)"
   ]
  },
  {
   "cell_type": "markdown",
   "metadata": {},
   "source": [
    "We contruct the model for the formation of star clusters:"
   ]
  },
  {
   "cell_type": "code",
   "execution_count": 62,
   "metadata": {},
   "outputs": [],
   "source": [
    "model = tpgm.model.GroupTreeModel()"
   ]
  },
  {
   "cell_type": "markdown",
   "metadata": {},
   "source": [
    "All the model parameters can be seen by calling `iter_parameter()`. \n",
    "Here we display the first 5 parameters:"
   ]
  },
  {
   "cell_type": "code",
   "execution_count": 63,
   "metadata": {},
   "outputs": [
    {
     "data": {
      "text/plain": [
       "[(galaxies_in_group_tree.cvt_stellar_mzr, array(False)),\n",
       " (galaxies_in_group_tree.f_r_lb, array(0.01)),\n",
       " (galaxies_in_group_tree.force_mzr, array(False)),\n",
       " (galaxies_in_group_tree.solar_oxygen, array(8.75)),\n",
       " (galaxies_in_group_tree.stellar_mzr_src, array(0))]"
      ]
     },
     "execution_count": 63,
     "metadata": {},
     "output_type": "execute_result"
    }
   ],
   "source": [
    "params = list(model.iter_parameters())\n",
    "params[:5]"
   ]
  },
  {
   "cell_type": "markdown",
   "metadata": {},
   "source": [
    "The model is implemented in a nested way. \n",
    "- We can get any sub-model from the attribute access.\n",
    "- Sub-model has similar API, e.g. `iter_parameters()`."
   ]
  },
  {
   "cell_type": "code",
   "execution_count": 64,
   "metadata": {},
   "outputs": [
    {
     "data": {
      "text/plain": [
       "[(alpha_s, array(1.5)),\n",
       " (beta, array(1.)),\n",
       " (beta_m, array(-2.)),\n",
       " (beta_metal, array(0.75)),\n",
       " (beta_metalp, array(-0.75)),\n",
       " (beta_mp, array(-0.75)),\n",
       " (beta_n_sf, array(-2.5)),\n",
       " (beta_n_sfp, array(-0.75)),\n",
       " (beta_sp, array(-1.25)),\n",
       " (bias_lmetal, array(0.))]"
      ]
     },
     "execution_count": 64,
     "metadata": {},
     "output_type": "execute_result"
    }
   ],
   "source": [
    "sc_sampler = model.subclouds_in_group_tree.samplers\n",
    "params = list(sc_sampler.iter_parameters())\n",
    "params[:10]"
   ]
  },
  {
   "cell_type": "markdown",
   "metadata": {},
   "source": [
    "Here we update some of the parameters by the method `update_parameters()`. \n",
    "- The argument is a `dict`.\n",
    "- The key of the dict can be the name of a parameter, and the value is the new one to update.\n",
    "- The key can also be the name of a sub-model, and the value is a `dict` of name-value pairs for the parameters to update.\n",
    "\n",
    "This makes it easy to order the parameters in a config file (e.g. JSON or YAML),\n",
    "and update the parameters in a single call.\n",
    "\n",
    "After all parameters are set, call `set_up()`. This will prepare and cache the data\n",
    "required for the model. JIT is made to speed up the calculation.\n",
    "Do not frequently call `set_up()` as it can be time-consuming.  "
   ]
  },
  {
   "cell_type": "code",
   "execution_count": 119,
   "metadata": {},
   "outputs": [],
   "source": [
    "model.update_parameters({\n",
    "    'subclouds_in_group_tree.samplers.beta_m': -2.,\n",
    "})\n",
    "model.update_parameters({\n",
    "    'subclouds_in_group_tree.samplers': {\n",
    "        'alpha_s': 2.0,\n",
    "        'beta_n_sf': -3.0,\n",
    "    }\n",
    "})\n",
    "model.set_up()"
   ]
  },
  {
   "cell_type": "markdown",
   "metadata": {},
   "source": [
    "We pass the data to the model, and get the result. \n",
    "The result has two attributes: \n",
    "- `sc_set`: the set of sub-clouds (i.e. star-clusters) formed throughout the merger tree. \n",
    "- `grptr`: the set of subhalos (i.e. galaxies), ordered the same as the input data."
   ]
  },
  {
   "cell_type": "code",
   "execution_count": 120,
   "metadata": {},
   "outputs": [
    {
     "data": {
      "text/plain": [
       "Result(grptr={ 'type': 'GroupTree',\n",
       "  'size': 11,\n",
       "  'keys': [ 'id', 'leaf_id', 'last_pro_id', 'id_in_branch', 'id_in_subtr',\n",
       "            'id_in_grptr', 'snap', 'z', 'a', 't_lb', 'x_t', 'big_hubble', 'dt',\n",
       "            'm_h', 'dm_h', 'r_h', 'v_h', 'v_max', 'is_cent', 'is_fast', 'gamma',\n",
       "            'f_en', 'f_sn', 'f_agn', 'm_g', 'dm_g_hot', 'dm_g_cool', 'dm_g_sf',\n",
       "            'dm_g_ej', 'dm_g_prev', 'dm_g', 'r_sgc', 'm_s', 'dm_s', 'sfr',\n",
       "            'm_s_d', 'm_s_b', 'm_bh', 'dm_bh', 'bh_seeded', 'm_Z', 'dm_Z',\n",
       "            'dm_Z_yield', 'dm_Z_ej', 'dm_Z_lock', 'Z'],\n",
       "  'n_subtrs': 1}, sc_set={ 'type': 'SubcloudSet',\n",
       "  'size': 6946,\n",
       "  'keys': [ 'subhalo_id_in_grptr', 'snap', 'z', 'Z', 'n_sgc', 'n_sampled',\n",
       "            'n_sf', 'n_shield', 'n_adopted', 'weight', 'm_g', 'rho_g', 'r_g',\n",
       "            'm_s', 'r_s', 'u_r', 'r', 'm_s_final']})"
      ]
     },
     "execution_count": 120,
     "metadata": {},
     "output_type": "execute_result"
    }
   ],
   "source": [
    "data_out = model(data_in)\n",
    "data_out"
   ]
  },
  {
   "cell_type": "markdown",
   "metadata": {},
   "source": [
    "Both `grptr` and `sc_set` are wrappers of numpy array of structured records.\n",
    "You can access a column by `[column_name]`, or access a row by `[index]`.\n",
    "\n",
    "Instead, use `sc_set.data` and `grptr.data` to visit the numpy array directly."
   ]
  },
  {
   "cell_type": "code",
   "execution_count": 122,
   "metadata": {},
   "outputs": [
    {
     "data": {
      "text/plain": [
       "(array([2.5057846e+01, 2.0212698e+00, 5.5505890e-02, 1.0281696e-02,\n",
       "        5.2318890e-03, 6.8317257e-02, 4.2551361e-02, 1.1543645e-02,\n",
       "        5.2952301e-03, 1.8561432e-03, 6.3069712e-04], dtype=float32),\n",
       " array([1.3132162e-06, 7.2878500e-08, 9.7573167e-05, ..., 7.2161936e-05,\n",
       "        7.7573168e-07, 1.7128431e-03], dtype=float32),\n",
       " { 'subhalo_id_in_grptr': 0,\n",
       "   'snap': 99,\n",
       "   'z': 0.0,\n",
       "   'Z': 11.148252,\n",
       "   'n_sgc': 0.5290865,\n",
       "   'n_sampled': 321.82083,\n",
       "   'n_sf': 0.010942722,\n",
       "   'n_shield': 0.48196816,\n",
       "   'n_adopted': 321.82083,\n",
       "   'weight': 382.83438,\n",
       "   'm_g': 4.3773874e-05,\n",
       "   'rho_g': 2079929100.0,\n",
       "   'r_g': 1.7127446e-05,\n",
       "   'm_s': 1.3132162e-06,\n",
       "   'r_s': 8.563723e-06,\n",
       "   'u_r': 0.42211044,\n",
       "   'r': 0.0013329604,\n",
       "   'm_s_final': 1.3132162e-06})"
      ]
     },
     "execution_count": 122,
     "metadata": {},
     "output_type": "execute_result"
    }
   ],
   "source": [
    "data_out.grptr['m_s'], data_out.sc_set['m_s'], data_out.sc_set[0]"
   ]
  },
  {
   "cell_type": "markdown",
   "metadata": {},
   "source": [
    "Here we draw the mass function of star clusters that are born in SN-free sub-clouds:\n",
    "\n",
    "- `m_s_final` is the final stellar mass of the star cluster at the root snapshot of the subhalo merger tree.\n",
    "- `m_s` is the initial (birth-time) stellar mass."
   ]
  },
  {
   "cell_type": "code",
   "execution_count": 123,
   "metadata": {},
   "outputs": [
    {
     "data": {
      "text/plain": [
       "<pyhipp.plot.axes.Axes at 0x34b534290>"
      ]
     },
     "execution_count": 123,
     "metadata": {},
     "output_type": "execute_result"
    },
    {
     "data": {
      "image/png": "[encoded data removed]",
      "text/plain": [
       "<Figure size 528x528 with 1 Axes>"
      ]
     },
     "metadata": {},
     "output_type": "display_data"
    }
   ],
   "source": [
    "m_s_final, m_s, n_sc, w = data_out.sc_set['m_s_final', 'm_s', 'n_adopted', 'weight']\n",
    "is_snfree = n_sc > 10**3.5\n",
    "m_s_final = m_s_final[is_snfree] * 1.0e10   # to h^{-1} M_sun\n",
    "m_s = m_s[is_snfree] * 1.0e10\n",
    "w = w[is_snfree]\n",
    "\n",
    "fig, ax = plot.subplots(1, figsize=5.5)\n",
    "\n",
    "kw = dict(range=(1.,7.), bins=15, weights=w, log=True, lw=3)\n",
    "ax.c('k').hist(np.log10(m_s_final.clip(1.)), **kw, label='z=0')\\\n",
    "    .c('r').hist(np.log10(m_s.clip(1.)), **kw, label='born')\n",
    "    \n",
    "ax.lim([2., 7.], [1., 1.0e4]).leg()\\\n",
    "    .label(r'\\log\\,M_{\\rm cls}\\,[h^{-1}M_\\odot]', r'\\rm Histogram')"
   ]
  },
  {
   "cell_type": "code",
   "execution_count": null,
   "metadata": {},
   "outputs": [],
   "source": []
  }
 ],
 "metadata": {
  "kernelspec": {
   "display_name": "Python 3",
   "language": "python",
   "name": "python3"
  },
  "language_info": {
   "codemirror_mode": {
    "name": "ipython",
    "version": 3
   },
   "file_extension": ".py",
   "mimetype": "text/x-python",
   "name": "python",
   "nbconvert_exporter": "python",
   "pygments_lexer": "ipython3",
   "version": "3.11.9"
  }
 },
 "nbformat": 4,
 "nbformat_minor": 2
}
